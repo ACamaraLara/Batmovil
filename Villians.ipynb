{
 "cells": [
  {
   "cell_type": "markdown",
   "metadata": {
    "id": "eearpYrRUr2Q"
   },
   "source": [
    "# Exercise 1\n",
    "Hi Guys Cristopher Nolan is here. Don't talk about this, but I am making a new Batman movie and I need your help to design the new Batmobile. For this ocassion I would like you to design it as several Python Classes.\n",
    "\n",
    "- Design the main Batmobile class with the following attributes: Pilot (It could be Batman or Robin), number of batrockets loaded, number of pem (this are electromagnetic pulses to counter the Joker weapons) uses left, liters of gas left in the batmobile\n",
    "\n",
    "- Add the following methods to the Batmobile class: A method to accelerate the batmobile and drive for some distance, a method to activate the turbo and drive for some distance faster than the normal method, a method to launch a rocket to a Joker colleague, a method to launch a pem use.\n",
    "\n",
    "- Create the following classes to interact with the Batmobile: Joker, Joker Villain, Rocket, PEM Pulse.\n",
    "\n",
    "- The Joker and Jokker Villain class should have a parameter called KO which will turn to True when they receive a Rocket. They also have a parameter called Weapon which should turn to false if they receive a PEM Pulse. \n",
    "\n",
    "- The Rocket and PEM Pulse are the ammunition of the Batmobile, the car can only use the weapons if it has ammunition in the arsenal.\n",
    "\n",
    "- Finally draw a diagram of the classes using diagram.io showing how they interact."
   ]
  },
  {
   "cell_type": "code",
   "execution_count": 24,
   "metadata": {},
   "outputs": [],
   "source": [
    "import numpy as np\n",
    "from pprint import pprint"
   ]
  },
  {
   "cell_type": "code",
   "execution_count": 128,
   "metadata": {},
   "outputs": [],
   "source": [
    "class Joker:\n",
    "    def __init__(self):\n",
    "        self.KO = False\n",
    "        self.weapon = True\n",
    "        self.position = 0\n",
    "        self.name = \"Joker\" \n",
    "            \n",
    "class Joker_Villain:\n",
    "    def __init__(self):\n",
    "        self.KO = False\n",
    "        self.weapon = True\n",
    "        self.position = 0\n",
    "        self.name = \"Joker Villain\"\n",
    "            \n",
    "class Villain_Managger:\n",
    "    def __init__(self, villain):#KO, weapon, init_pos, name):\n",
    "        if isinstance(villain, Joker):\n",
    "            print(\"The new villain is the Joker\")\n",
    "        \n",
    "        elif isinstance(villain, Joker_Villain):\n",
    "            print(\"The new villain is the Joker Villain\")\n",
    "        \n",
    "        else:\n",
    "            print(\"The object of the constructor is not a Villain\")        \n",
    "        self.KO = villain.KO\n",
    "        self.weapon = villain.weapon\n",
    "        self.position = villain.position\n",
    "        self.villainName = villain.name\n",
    "        \n",
    "    def set_lane(self):\n",
    "        self.position = np.random.choice(10) \n",
    "        print(\"The \", self.villainName,\" has moved to lane\", self.position)\n",
    "        return self.position\n",
    "    \n",
    "    def dodge_rocket(self, pos):\n",
    "        if self.position == pos:\n",
    "            self.KO = True\n",
    "            print(\"The\", self.villainName,\"has been reached by the rocket, he's K.O.\")\n",
    "        else:\n",
    "            print(\"The\", self.villainName,\"has dodged the rocket\")\n",
    "            \n",
    "    def dodge_PEM(self, pos):\n",
    "        if self.position == pos:\n",
    "            self.weapon = False\n",
    "            print(\"The\", self.villainName,\"has been reached by the PEM shot, he's disarmed\")\n",
    "        else:\n",
    "            print(\"The\", self.villainName,\"has dodged the PEM shot\")\n",
    "        "
   ]
  },
  {
   "cell_type": "code",
   "execution_count": 129,
   "metadata": {},
   "outputs": [
    {
     "name": "stdout",
     "output_type": "stream",
     "text": [
      "{'KO': False, 'name': 'Joker', 'position': 0, 'weapon': True}\n",
      "{'KO': False, 'name': 'Joker Villain', 'position': 0, 'weapon': True}\n"
     ]
    }
   ],
   "source": [
    "joker = Joker()\n",
    "joker_villain = Joker_Villain()\n",
    "\n",
    "pprint(vars(joker))\n",
    "pprint(vars(joker_villain))\n"
   ]
  },
  {
   "cell_type": "code",
   "execution_count": 130,
   "metadata": {},
   "outputs": [
    {
     "name": "stdout",
     "output_type": "stream",
     "text": [
      "The new villain is the Joker\n",
      "The new villain is the Joker Villain\n"
     ]
    }
   ],
   "source": [
    "villain1 = Villain_Managger(joker)\n",
    "villain2 = Villain_Managger(joker_villain)"
   ]
  },
  {
   "cell_type": "code",
   "execution_count": 131,
   "metadata": {},
   "outputs": [
    {
     "name": "stdout",
     "output_type": "stream",
     "text": [
      "The  Joker  has moved to lane 3\n",
      "The  Joker Villain  has moved to lane 9\n"
     ]
    }
   ],
   "source": [
    "villain1.set_lane()\n",
    "villain2.set_lane()\n",
    "while villain2.position == villain1.position:\n",
    "    villain2.set_lane()"
   ]
  },
  {
   "cell_type": "code",
   "execution_count": 139,
   "metadata": {},
   "outputs": [
    {
     "name": "stdout",
     "output_type": "stream",
     "text": [
      "{'KO': False, 'name': 'Joker', 'position': 0, 'weapon': True}\n",
      "{'KO': False, 'name': 'Joker Villain', 'position': 0, 'weapon': True}\n",
      "The new villain is the Joker\n",
      "The new villain is the Joker Villain\n",
      "The  Joker  has moved to lane 8\n",
      "The  Joker Villain  has moved to lane 8\n",
      "The  Joker Villain  has moved to lane 4\n",
      "The Joker has dodged the PEM shot\n",
      "The Joker has dodged the rocket\n",
      "The Joker Villain has dodged the PEM shot\n",
      "The Joker Villain has dodged the rocket\n",
      "The  Joker  has moved to lane 5\n",
      "The  Joker Villain  has moved to lane 6\n",
      "The Joker has dodged the PEM shot\n",
      "The Joker has dodged the rocket\n",
      "The Joker Villain has dodged the PEM shot\n",
      "The Joker Villain has been reached by the rocket, he's K.O.\n",
      "The  Joker  has moved to lane 4\n",
      "The Joker has dodged the PEM shot\n",
      "The Joker has dodged the rocket\n",
      "The  Joker  has moved to lane 5\n",
      "The Joker has been reached by the PEM shot, he's disarmed\n",
      "The Joker has dodged the rocket\n",
      "The  Joker  has moved to lane 4\n",
      "The Joker has dodged the rocket\n",
      "The  Joker  has moved to lane 8\n",
      "The Joker has dodged the rocket\n",
      "The  Joker  has moved to lane 0\n",
      "The Joker has been reached by the rocket, he's K.O.\n",
      "Both villains are KO\n"
     ]
    }
   ],
   "source": [
    "joker = Joker()\n",
    "joker_villain = Joker_Villain()\n",
    "\n",
    "pprint(vars(joker))\n",
    "pprint(vars(joker_villain))\n",
    "\n",
    "villain1 = Villain_Managger(joker)\n",
    "villain2 = Villain_Managger(joker_villain)\n",
    "\n",
    "for i in range(10):\n",
    "    rocket = np.random.choice(10)\n",
    "    PEM = np.random.choice(10)\n",
    "    \n",
    "    if villain1.KO == False:\n",
    "        villain1.set_lane()\n",
    "    if villain2.KO == False:\n",
    "        villain2.set_lane()\n",
    "        while villain2.position == villain1.position:\n",
    "            villain2.set_lane()\n",
    "    \n",
    "    if villain1.KO == False:  \n",
    "        if villain1.weapon == True:\n",
    "            villain1.dodge_PEM(PEM)\n",
    "        villain1.dodge_rocket(rocket)\n",
    "        \n",
    "    if villain2.KO == False:  \n",
    "        if villain2.weapon == True:\n",
    "            villain2.dodge_PEM(PEM)\n",
    "        villain2.dodge_rocket(rocket)\n",
    "    \n",
    "    if villain1.KO == True and villain2.KO == True:\n",
    "        print(\"Both villains are KO\")\n",
    "        break"
   ]
  }
 ],
 "metadata": {
  "kernelspec": {
   "display_name": "Python 3",
   "language": "python",
   "name": "python3"
  },
  "language_info": {
   "codemirror_mode": {
    "name": "ipython",
    "version": 3
   },
   "file_extension": ".py",
   "mimetype": "text/x-python",
   "name": "python",
   "nbconvert_exporter": "python",
   "pygments_lexer": "ipython3",
   "version": "3.8.3"
  }
 },
 "nbformat": 4,
 "nbformat_minor": 4
}
